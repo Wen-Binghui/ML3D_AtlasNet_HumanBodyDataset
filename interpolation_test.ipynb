{
 "cells": [
  {
   "cell_type": "code",
   "execution_count": 1,
   "metadata": {},
   "outputs": [],
   "source": [
    "from data_loader import Data_set_body\n",
    "import torch, utils, trimesh, pymesh, os\n",
    "from model.model import EncoderDecoder\n",
    "from IPython.display import Image\n",
    "import options\n",
    "# option = options.Headpose_Option()\n",
    "# train_Data = Data_set_body(option.number_points, 'overfit', \"headposes\")\n",
    "# if torch.cuda.is_available():\n",
    "#     option.device = torch.device(f\"cuda:0\")\n",
    "# else:\n",
    "#     option.device = torch.device(f\"cpu\")\n",
    "\n",
    "# model = EncoderDecoder(option)\n",
    "# model_dict_file = 'runs/model_best_headposes3.ckpt'\n",
    "# model.load_state_dict(torch.load(model_dict_file))\n",
    "# ind_0 = 0\n",
    "# ind_1 = 26\n",
    "\n",
    "# id_0 = ind_0 if ind_0>=0 else len(train_Data)+ind_0\n",
    "# input_0 = train_Data[ind_0]['img'].unsqueeze(0).float().to(option.device)\n",
    "# id_1 = ind_1 if ind_1>=0 else len(train_Data)+ind_1\n",
    "# input_1 = train_Data[ind_1]['img'].unsqueeze(0).float().to(option.device)\n",
    "# model.eval()\n",
    "# lat_code_0 = model.encoder(input_0)\n",
    "# lat_code_1 = model.encoder(input_1)\n",
    "# mesh0 = model.generate_mesh(input_0)\n",
    "# mesh1 = model.generate_mesh(input_1)\n"
   ]
  },
  {
   "cell_type": "code",
   "execution_count": 2,
   "metadata": {},
   "outputs": [],
   "source": [
    "exp_time = \"28jun_2\"\n",
    "\n",
    "# if not os.path.exists(f\"runs/for_gif/{exp_time}_exp\"):\n",
    "#     os.makedirs(f\"runs/for_gif/{exp_time}_exp\")\n",
    "# num_interpolation = 60\n",
    "# for i in range(num_interpolation):\n",
    "#     latent_new = lat_code_0 + i * (lat_code_1 - lat_code_0) / num_interpolation\n",
    "#     mesh_new = model.generate_mesh_by_latent(latent_new)\n",
    "#     pymesh.save_mesh(f\"runs/for_gif/{exp_time}_exp/mesh_human_head_{i}.obj\", mesh_new, ascii=True)\n"
   ]
  },
  {
   "cell_type": "code",
   "execution_count": 3,
   "metadata": {},
   "outputs": [
    {
     "name": "stderr",
     "output_type": "stream",
     "text": [
      "visualizing: 100%|██████████| 60/60 [00:24<00:00,  2.48it/s]\n"
     ]
    }
   ],
   "source": [
    "# mesh_folder = f\"runs/for_gif/{exp_time}_exp\"\n",
    "\n",
    "# utils.meshes_to_gif(mesh_folder, f\"runs/for_gif/{exp_time}_exp_cam2.gif\", 10)"
   ]
  },
  {
   "cell_type": "code",
   "execution_count": 9,
   "metadata": {},
   "outputs": [
    {
     "name": "stdout",
     "output_type": "stream",
     "text": [
      "07-29_17h13s\n"
     ]
    }
   ],
   "source": []
  }
 ],
 "metadata": {
  "interpreter": {
   "hash": "da8dbc1b63bdbf97b9bd4503d3ad5d2746bd5705c057cd49cd4e24df0ea6ed17"
  },
  "kernelspec": {
   "display_name": "Python 3.7.13 ('torch_gpu_17')",
   "language": "python",
   "name": "python3"
  },
  "language_info": {
   "codemirror_mode": {
    "name": "ipython",
    "version": 3
   },
   "file_extension": ".py",
   "mimetype": "text/x-python",
   "name": "python",
   "nbconvert_exporter": "python",
   "pygments_lexer": "ipython3",
   "version": "3.7.13"
  },
  "orig_nbformat": 4
 },
 "nbformat": 4,
 "nbformat_minor": 2
}
