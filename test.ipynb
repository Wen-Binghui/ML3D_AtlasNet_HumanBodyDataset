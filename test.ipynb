{
 "cells": [
  {
   "cell_type": "code",
   "execution_count": 1,
   "metadata": {},
   "outputs": [
    {
     "name": "stdout",
     "output_type": "stream",
     "text": [
      "New MLP decoder : hidden size 512, num_layers 2, activation relu\n",
      "Using: cuda:0\n",
      "torch.Size([1, 4, 224, 224])\n",
      "torch.Size([1, 1, 3, 2500])\n"
     ]
    }
   ],
   "source": [
    "from data_loader import Data_set\n",
    "import torch\n",
    "from model.model import EncoderDecoder\n",
    "from chamfer_distance import ChamferDistance\n",
    "\n",
    "ds = Data_set(250, 'train')\n",
    "\n",
    "class Opt(object):\n",
    "    template_type = \"SPHERE\"\n",
    "    bottleneck_size = 1024 \n",
    "    number_points = 2500\n",
    "    number_points_eval = 2500\n",
    "    num_layers = 2\n",
    "    nb_primitives = 1\n",
    "    remove_all_batchNorms = 0\n",
    "    hidden_neurons = 512\n",
    "    activation = 'relu'\n",
    "    SVR = True\n",
    "    dim_template_dict = {\n",
    "        \"SQUARE\": 2,\n",
    "        \"SPHERE\": 3,\n",
    "    }\n",
    "    def __init__(self):\n",
    "        self.dim_template = self.dim_template_dict[self.template_type]\n",
    "\n",
    "opt = Opt()\n",
    "\n",
    "if torch.cuda.is_available():\n",
    "    opt.device = torch.device(f\"cuda:0\")\n",
    "else:\n",
    "    opt.device = torch.device(f\"cpu\")\n",
    "\n",
    "network = EncoderDecoder(opt)\n",
    "print(\"Using: {}\".format(opt.device))\n",
    "out = network(ds[0]['img'].unsqueeze(0).float().to(opt.device))\n",
    "print(out.shape)\n",
    "\n",
    "true_out = ds[0]['points']\n",
    "\n",
    "\n"
   ]
  },
  {
   "cell_type": "code",
   "execution_count": 2,
   "metadata": {},
   "outputs": [],
   "source": [
    "true_out = true_out.unsqueeze(0).unsqueeze(0).to(opt.device)\n",
    "\n",
    "chamferDist = ChamferDistance()\n",
    "\n"
   ]
  }
 ],
 "metadata": {
  "interpreter": {
   "hash": "da8dbc1b63bdbf97b9bd4503d3ad5d2746bd5705c057cd49cd4e24df0ea6ed17"
  },
  "kernelspec": {
   "display_name": "Python 3.7.13 ('torch_gpu_17')",
   "language": "python",
   "name": "python3"
  },
  "language_info": {
   "codemirror_mode": {
    "name": "ipython",
    "version": 3
   },
   "file_extension": ".py",
   "mimetype": "text/x-python",
   "name": "python",
   "nbconvert_exporter": "python",
   "pygments_lexer": "ipython3",
   "version": "3.7.13"
  },
  "orig_nbformat": 4
 },
 "nbformat": 4,
 "nbformat_minor": 2
}
